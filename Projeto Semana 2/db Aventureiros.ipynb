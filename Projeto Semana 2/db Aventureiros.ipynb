import firebase_admin
from firebase_admin import credentials, db
cred = credentials.Certificate('/content/drive/MyDrive/FIREBASE/bancodd-f30da-firebase-adminsdk-fbsvc-1aa3fdaf5c.json')
firebase_admin.initialize_app(cred, {
    'databaseURL' : 'https://bancodd-f30da-default-rtdb.firebaseio.com/'
})

FileNotFoundError                         Traceback (most recent call last)
/tmp/ipython-input-361929830.py in <cell line: 0>()
      1 import firebase_admin
      2 from firebase_admin import credentials, db
----> 3 cred = credentials.Certificate('/content/drive/MyDrive/FIREBASE/bancodd-f30da-firebase-adminsdk-fbsvc-1aa3fdaf5c.json')
      4 firebase_admin.initialize_app(cred, {
      5     'databaseURL' : 'https://bancodd-f30da-default-rtdb.firebaseio.com/'

/usr/local/lib/python3.11/dist-packages/firebase_admin/credentials.py in __init__(self, cert)
     95         super(Certificate, self).__init__()
     96         if _is_file_path(cert):
---> 97             with open(cert) as json_file:
     98                 json_data = json.load(json_file)
     99         elif isinstance(cert, dict):

FileNotFoundError: [Errno 2] No such file or directory: '/content/drive/MyDrive/FIREBASE/bancodd-f30da-firebase-adminsdk-fbsvc-1aa3fdaf5c.json'

aventureiros_ref = db.reference('/aventureiros')

aventureiros_ref.set({
    '001' : {
        'nome': 'André Luiz',
        'classe': 'Aventureiro',
        'nivel': 1,
        'guilda': 'Vale do Espantalho'
    },
    '002': {
        'nome': 'Angelina Brito',
        'classe': 'Aventureiro',
        'nivel': 1,
        'guilda': 'Vale do Espantalho'
    },
    '003':{
        'nome': 'Arthur Silva',
        'classe': 'Aventureiro',
        'nivel': 1,
        'guilda': 'Assombro'
    },
    '004': {
        'nome': 'Bruno  Bonatto',
        'classe': 'Aventureiro',
        'nivel': 1,
        'guilda': 'Vale do Espantalho'
    },
    '005': {
    'nome': 'Cauê',
    'classe': 'Aventureiro',
    'nivel': 1,
    'guilda': 'Vale do Espantalho'
    },

    '006': {
    'nome': 'Enzo',
    'classe': 'Aventureiro',
    'nivel': 1,
    'guilda': 'Vale do Espantalho'
    },

    '007': {
    'nome': 'Eryck',
    'classe': 'Aventureiro',
    'nivel': 1,
    'guilda': 'Vale do Espantalho'
    },

    '008': {
    'nome': 'Giullia',
    'classe': 'Aventureiro',
    'nivel': 1,
    'guilda': 'Vale do Espantalho'
    },

    '009': {
    'nome': 'Guilherme Pescuma',
    'classe': 'Aventureiro',
    'nivel': 1,
    'guilda': 'Vale do Espantalho'
    },

    '010': {
    'nome': 'Lucas Mendes',
    'classe': 'Aventureiro',
    'nivel': 1,
    'guilda': 'Vale do Espantalho'
    },

    '011': {
    'nome': 'Lucas Souza',
    'classe': 'Aventureiro',
    'nivel': 1,
    'guilda': 'Vale do Espantalho'
    },

    '012': {
    'nome': 'Maria Luiza',
    'classe': 'Aventureiro',
    'nivel': 1,
    'guilda': 'Vale do Espantalho'
    },

    '013': {
    'nome': 'Nicole',
    'classe': 'Aventureiro',
    'nivel': 1,
    'guilda': 'Vale do Espantalho'
    },

    '014': {
    'nome': 'Arthur',
    'classe': 'Aventureiro',
    'nivel': 1,
    'guilda': 'Aracna'
    },

    '015': {
    'nome': 'Cauã',
    'classe': 'Aventureiro',
    'nivel': 1,
    'guilda': 'Aracna'
    },

    '016': {
    'nome': 'Fábio',
    'classe': 'Aventureiro',
    'nivel': 1,
    'guilda': 'Aracna'
    },

    '017': {
    'nome': 'Fernanda',
    'classe': 'Aventureiro',
    'nivel': 1,
    'guilda': 'Aracna'
    },

    '018': {
    'nome': 'Gabriel',
    'classe': 'Aventureiro',
    'nivel': 1,
    'guilda': 'Aracna'
    },

    '019': {
    'nome': 'Guilherme',
    'classe': 'Aventureiro',
    'nivel': 1,
    'guilda': 'Aracna'
    },

    '020': {
    'nome': 'Gustavo',
    'classe': 'Aventureiro',
    'nivel': 1,
    'guilda': 'Aracna'
    },

 '021': {
    'nome': 'João',
    'classe': 'Aventureiro',
    'nivel': 1,
    'guilda': 'Aracna'
    },

 '022': {
    'nome': 'Maria Eduarda',
    'classe': 'Aventureiro',
    'nivel': 1,
    'guilda': 'Aracna'
    },

'023': {
    'nome': 'Raika',
    'classe': 'Aventureiro',
    'nivel': 1,
    'guilda': 'Aracna'
    },

'024': {
    'nome': 'Richard',
    'classe': 'Aventureiro',
    'nivel': 1,
    'guilda': 'Aracna'
    },

})
({
  "001": {
  "nome": "André Luiz",
  "dano_individual": 2,
  "id_classe": "001",
  "guilda": "Vale do Espantalho",
  "id_boss": "boss_01",
  "level": 1
  },


  "002": {
  "nome": "Angelina Brito",
  "dano_individual": 1,
  "id_classe": "002",
  "guilda": "Vale do Espantalho",
  "id_boss": "boss_01",
  "level": 1
  },


  "003": {
  "nome": "Arthur Silva",
  "dano_individual": 0,
  "id_classe": "001",
  "guilda": "Aracna",
  "id_boss": "boss_01",
  "level": 1
  },


  "004": {
  "nome": "Bruno Bonattto",
  "dano_individual": 0,
  "id_classe": "001",
  "guilda": "Vale do Espantalho",
  "id_boss": "boss_01",
  "level": 1
  },


  "005": {
  "nome": "Cauê",
  "dano_individual": 2,
  "id_classe": "001",
  "guilda": "Vale do Espantalho",
  "id_boss": "boss_01",
  "level": 1


  "006": {
  "nome": "Enzo",
  "dano_individual": 2,
  "id_classe": "001",
  "guilda": "Vale do Espantalho",
  "id_boss": "boss_01",
  "level": 1
  },


  "007": {
  "nome": "Eryck",
  "dano_individual": 2,
  "id_classe": "001",
  "guilda": "Vale do Espantalho",
  "id_boss": "boss_01",
  "level": 1
  },


  "008": {
  "nome": "Giullia",
  "dano_individual": 2,
  "id_classe": "001",
  "guilda": "Vale do Espantalho",
  "id_boss": "boss_01",
  "level": 1
  },


  "009": {
  "nome": "Guilherme Pescuma",
  "dano_individual": 2,
  "id_classe": "001",
  "guilda": "Vale do Espantalho",
  "id_boss": "boss_01",
  "level": 1
  },


  "010": {
  "nome": "Lucas Mendes",
  "dano_individual": 2,
  "id_classe": "001",
  "guilda": "Vale do Espantalho",
  "id_boss": "boss_01",
  "level": 1
  },


  "011": {
  "nome": "Lucas Souza",
  "dano_individual": 2,
  "id_classe": "001",
  "guilda": "Vale do Espantalho",
  "id_boss": "boss_01",
  "level": 1
  },


  "012": {
  "nome": "Maria Luiza",
  "dano_individual": 2,
  "id_classe": "001",
  "guilda": "Vale do Espantalho",
  "id_boss": "boss_01",
  "level": 1
  },


  "013": {
  "nome": "Nicole",
  "dano_individual": 2,
  "id_classe": "001",
  "guilda": "Vale do Espantalho",
  "id_boss": "boss_01",
  "level": 1
  },


  "014": {
  "nome": "Cauã",
  "dano_individual": 2,
  "id_classe": "001",
  "guilda": "Vale do Espantalho",
  "id_boss": "boss_01",
  "level": 1
  },


  "015": {
  "nome": "Fábio",
  "dano_individual": 2,
  "id_classe": "001",
  "guilda": "Vale do Espantalho",
  "id_boss": "boss_01",
  "level": 1
  },

  "016": {
  "nome": "Fernanda",
  "dano_individual": 2,
  "id_classe": "001",
  "guilda": "Vale do Espantalho",
  "id_boss": "boss_01",
  "level": 1
  },

  "017": {
  "nome": "Gabriel",
  "dano_individual": 2,
  "id_classe": "001",
  "guilda": "Vale do Espantalho",
  "id_boss": "boss_01",
  "level": 1
  },

  "018": {
  "nome": "Guilherme",
  "dano_individual": 2,
  "id_classe": "001",
  "guilda": "Vale do Espantalho",
  "id_boss": "boss_01",
  "level": 1
  },

  "019": {
  "nome": "Gustavo",
  "dano_individual": 2,
  "id_classe": "001",
  "guilda": "Vale do Espantalho",
  "id_boss": "boss_01",
  "level": 1
  },

  "020": {
  "nome": "",
  "dano_individual": 2,
  "id_classe": "001",
  "guilda": "Vale do Espantalho",
  "id_boss": "boss_01",
  "level": 1
  },

})
{
  "id_boss": "boss_01",
  "nome": "Derrotar o Senhor do Abismo",
  "nome_boss": "Senhor do Abismo",
  "status": "ativa"
}
missoes_ref = db.reference('/missoes')

'm0': {
 'nome': 'Derrotar o Espantalho',
 'descricao': 'Chefe do tutorial, estava ameacando a plantacao',
 'completada_por': [],
 'status': 'completa'
}

'm1': {
 'nome': 'Derrotar o Rei Goblin',
 'descricao': 'Chefe inicial da campanha, trouxe com si goblins que aterrorizaram a vila',
 'completada_por': [],
 'status': 'completa'
}

'm2': {
 'nome': 'Burocracia com a Aracna',
 'descricao': 'Chefe que queria relacoes com a vila do espantalho, alem de poder pela mercadoria',
 'completada_por': [],
 'status': 'completa'
}
